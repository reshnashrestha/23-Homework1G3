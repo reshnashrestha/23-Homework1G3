{
 "cells": [
  {
   "cell_type": "code",
   "execution_count": 1,
   "id": "65abb3bc-4801-4f8d-aa8b-b7c920e154e6",
   "metadata": {
    "tags": []
   },
   "outputs": [],
   "source": []
  },
  {
   "cell_type": "code",
   "execution_count": 12,
   "id": "91f61663-7edd-418d-a972-f43822f7bf01",
   "metadata": {
    "tags": []
   },
   "outputs": [],
   "source": [
    "from qiskit import *\n",
    "# import everything"
   ]
  },
  {
   "cell_type": "code",
   "execution_count": 13,
   "id": "0b2eea91-084a-402b-bb2a-faa2478e83e5",
   "metadata": {
    "tags": []
   },
   "outputs": [],
   "source": [
    "qr = QuantumRegister(2)\n",
    "# create two qubit quantam registers"
   ]
  },
  {
   "cell_type": "code",
   "execution_count": 14,
   "id": "0d7a0928-d7a9-4179-baaf-c15ea7f98911",
   "metadata": {
    "tags": []
   },
   "outputs": [],
   "source": [
    "cr = ClassicalRegister(2)\n",
    "# build two classical registers"
   ]
  },
  {
   "cell_type": "code",
   "execution_count": 16,
   "id": "2ac78e24-c4ff-4dc9-8689-e9ac54a96577",
   "metadata": {
    "tags": []
   },
   "outputs": [],
   "source": [
    "circuit = QuantumCircuit(qr, cr)\n",
    "# build a quantam circuit"
   ]
  },
  {
   "cell_type": "code",
   "execution_count": 17,
   "id": "2d2d96ad-c9d1-455f-aa96-64ae1e1856c8",
   "metadata": {
    "tags": []
   },
   "outputs": [],
   "source": [
    "%matplotlib inline"
   ]
  },
  {
   "cell_type": "code",
   "execution_count": 18,
   "id": "08a70b78-52a0-4a4d-b717-47d6d8fb93d4",
   "metadata": {
    "tags": []
   },
   "outputs": [
    {
     "data": {
      "image/png": "[encoded data removed]",
      "text/plain": [
       "<Figure size 179.906x284.278 with 1 Axes>"
      ]
     },
     "execution_count": 18,
     "metadata": {},
     "output_type": "execute_result"
    }
   ],
   "source": [
    "circuit.draw()\n",
    "# visualize the circuit"
   ]
  },
  {
   "cell_type": "code",
   "execution_count": 19,
   "id": "f7590a3c-3ce4-4c24-b3bf-e82771ab8e6c",
   "metadata": {
    "tags": []
   },
   "outputs": [
    {
     "data": {
      "text/plain": [
       "<qiskit.circuit.instructionset.InstructionSet at 0x7f9526e476d0>"
      ]
     },
     "execution_count": 19,
     "metadata": {},
     "output_type": "execute_result"
    }
   ],
   "source": [
    "circuit.h(qr[0])\n",
    "# to create entaglement, we first apply hardamard gate"
   ]
  },
  {
   "cell_type": "code",
   "execution_count": 21,
   "id": "073cd702-3e7f-4072-b803-137d0021a0e5",
   "metadata": {
    "tags": []
   },
   "outputs": [
    {
     "data": {
      "image/png": "[encoded data removed]",
      "text/plain": [
       "<Figure size 221.712x284.278 with 1 Axes>"
      ]
     },
     "execution_count": 21,
     "metadata": {},
     "output_type": "execute_result"
    }
   ],
   "source": [
    "circuit.draw(output='mpl')\n",
    "# way to make plot of circuit."
   ]
  },
  {
   "cell_type": "code",
   "execution_count": 22,
   "id": "9d7c1e04-c835-4c47-bf19-72c6b081049f",
   "metadata": {
    "tags": []
   },
   "outputs": [
    {
     "data": {
      "text/plain": [
       "<qiskit.circuit.instructionset.InstructionSet at 0x7f9526be23b0>"
      ]
     },
     "execution_count": 22,
     "metadata": {},
     "output_type": "execute_result"
    }
   ],
   "source": [
    "circuit.cx(qr[0], qr[1])\n",
    "# two qubit operation\n",
    "      # Control is first qubit and target is second qubit.     "
   ]
  },
  {
   "cell_type": "code",
   "execution_count": 23,
   "id": "7f149ec7-1ca9-4600-9ea1-a5851ff851e7",
   "metadata": {
    "tags": []
   },
   "outputs": [
    {
     "data": {
      "image/png": "[encoded data removed]",
      "text/plain": [
       "<Figure size 305.323x284.278 with 1 Axes>"
      ]
     },
     "execution_count": 23,
     "metadata": {},
     "output_type": "execute_result"
    }
   ],
   "source": [
    "circuit.draw(output='mpl')\n",
    "# Here our circuit consist of a Hardamard gate and a controlNot gate."
   ]
  },
  {
   "cell_type": "code",
   "execution_count": 24,
   "id": "a92a6542-59ba-4e39-a859-91870c3fb6b3",
   "metadata": {
    "tags": []
   },
   "outputs": [
    {
     "data": {
      "text/plain": [
       "<qiskit.circuit.instructionset.InstructionSet at 0x7f9526c44100>"
      ]
     },
     "execution_count": 24,
     "metadata": {},
     "output_type": "execute_result"
    }
   ],
   "source": [
    "circuit.measure(qr,cr)\n",
    "# measure the quantum bits and take them to store in classical registers"
   ]
  },
  {
   "cell_type": "code",
   "execution_count": 25,
   "id": "c5d40703-0e05-48a6-b0b3-17c310dc4f3f",
   "metadata": {
    "tags": []
   },
   "outputs": [
    {
     "data": {
      "image/png": "[encoded data removed]",
      "text/plain": [
       "<Figure size 472.545x284.278 with 1 Axes>"
      ]
     },
     "execution_count": 25,
     "metadata": {},
     "output_type": "execute_result"
    }
   ],
   "source": [
    "circuit.draw(output = 'mpl')\n",
    "# how circuit looks like"
   ]
  },
  {
   "cell_type": "code",
   "execution_count": 26,
   "id": "c61b684c-a9e9-4ce5-a37c-93ae39968994",
   "metadata": {
    "tags": []
   },
   "outputs": [],
   "source": [
    "simulator = Aer.get_backend('qasm_simulator')\n",
    "# run in classical computer to see what happens in classical computer\n",
    "# qasm_ simulator is the name of simulator"
   ]
  },
  {
   "cell_type": "code",
   "execution_count": 34,
   "id": "1c46d55f-20b0-4921-b554-b61c40ae2f02",
   "metadata": {
    "tags": []
   },
   "outputs": [],
   "source": [
    " result = execute(circuit, backend = simulator).result()\n",
    "    # Executing the simulator and result variable holds the Information that comes from executing the circuit."
   ]
  },
  {
   "cell_type": "code",
   "execution_count": 35,
   "id": "fccbb889-efa0-4f03-8e80-c1df61fdf312",
   "metadata": {
    "tags": []
   },
   "outputs": [],
   "source": [
    "from qiskit.tools.visualization import plot_histogram\n"
   ]
  },
  {
   "cell_type": "code",
   "execution_count": 36,
   "id": "9cbffafe-f182-4f2d-949e-7c1cf8f5aa9c",
   "metadata": {
    "tags": []
   },
   "outputs": [
    {
     "data": {
      "image/png": "[encoded data removed]",
      "text/plain": [
       "<Figure size 700x500 with 1 Axes>"
      ]
     },
     "execution_count": 36,
     "metadata": {},
     "output_type": "execute_result"
    }
   ],
   "source": [
    "plot_histogram(result.get_counts(circuit))\n",
    "# take the result and pass in to our circuit."
   ]
  },
  {
   "cell_type": "code",
   "execution_count": null,
   "id": "babc9b5e-2adb-432d-b4d3-13743bda3414",
   "metadata": {},
   "outputs": [],
   "source": []
  },
  {
   "cell_type": "code",
   "execution_count": null,
   "id": "55c69756-19ec-489c-95ce-cabacfb2cc18",
   "metadata": {},
   "outputs": [],
   "source": []
  }
 ],
 "metadata": {
  "kernelspec": {
   "display_name": "Python 3 (ipykernel)",
   "language": "python",
   "name": "python3"
  },
  "language_info": {
   "codemirror_mode": {
    "name": "ipython",
    "version": 3
   },
   "file_extension": ".py",
   "mimetype": "text/x-python",
   "name": "python",
   "nbconvert_exporter": "python",
   "pygments_lexer": "ipython3",
   "version": "3.10.8"
  },
  "widgets": {
   "application/vnd.jupyter.widget-state+json": {
    "state": {},
    "version_major": 2,
    "version_minor": 0
   }
  }
 },
 "nbformat": 4,
 "nbformat_minor": 5
}
